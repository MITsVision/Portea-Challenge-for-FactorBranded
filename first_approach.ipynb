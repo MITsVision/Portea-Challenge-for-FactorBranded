{
 "cells": [
  {
   "cell_type": "code",
   "execution_count": 1,
   "metadata": {
    "collapsed": true
   },
   "outputs": [],
   "source": [
    "import pandas as pd\n",
    "import numpy as np\n",
    "import scipy as sc\n",
    "import sklearn as skl\n",
    "import matplotlib\n",
    "import matplotlib.pyplot as plt\n",
    "import seaborn as sns\n",
    "%matplotlib inline"
   ]
  },
  {
   "cell_type": "code",
   "execution_count": 2,
   "metadata": {},
   "outputs": [
    {
     "name": "stderr",
     "output_type": "stream",
     "text": [
      "C:\\Users\\I341584\\Continuum\\Anaconda3\\lib\\site-packages\\IPython\\core\\interactiveshell.py:2717: DtypeWarning: Columns (21) have mixed types. Specify dtype option on import or set low_memory=False.\n",
      "  interactivity=interactivity, compiler=compiler, result=result)\n"
     ]
    }
   ],
   "source": [
    "patient_monthwise_revenue_test = pd.read_csv(\"patient_monthwise_revenue_test.csv\")"
   ]
  },
  {
   "cell_type": "code",
   "execution_count": 3,
   "metadata": {},
   "outputs": [
    {
     "data": {
      "text/plain": [
       "['patient_id',\n",
       " 'visit_month_year',\n",
       " 'service_id',\n",
       " 'visits_count',\n",
       " 'city',\n",
       " 'revenue',\n",
       " 'ref_type',\n",
       " 'ref_name',\n",
       " 'ref_source',\n",
       " 'service_name',\n",
       " 'FVD',\n",
       " 'FVM',\n",
       " 'FVS',\n",
       " 'approx_age',\n",
       " 'gender',\n",
       " 'LVD',\n",
       " 'brand',\n",
       " 'visits_required',\n",
       " 'diagnosis',\n",
       " 'avg_nps',\n",
       " 'Unnamed: 20',\n",
       " 'Unnamed: 21']"
      ]
     },
     "execution_count": 3,
     "metadata": {},
     "output_type": "execute_result"
    }
   ],
   "source": [
    "header = list(patient_monthwise_revenue_test)\n",
    "header_1 = header[0:len(header)]\n",
    "header_1"
   ]
  },
  {
   "cell_type": "code",
   "execution_count": 4,
   "metadata": {},
   "outputs": [
    {
     "name": "stderr",
     "output_type": "stream",
     "text": [
      "C:\\Users\\I341584\\Continuum\\Anaconda3\\lib\\site-packages\\IPython\\core\\interactiveshell.py:2717: DtypeWarning: Columns (20,21) have mixed types. Specify dtype option on import or set low_memory=False.\n",
      "  interactivity=interactivity, compiler=compiler, result=result)\n"
     ]
    }
   ],
   "source": [
    "patient_monthwise_revenue_train = pd.read_csv(\"patient_monthwise_revenue_train.csv\")"
   ]
  },
  {
   "cell_type": "code",
   "execution_count": 5,
   "metadata": {},
   "outputs": [
    {
     "data": {
      "text/plain": [
       "['patient_id',\n",
       " 'visit_month_year',\n",
       " 'service_id',\n",
       " 'visits_count',\n",
       " 'city',\n",
       " 'revenue',\n",
       " 'ref_type',\n",
       " 'ref_name',\n",
       " 'ref_source',\n",
       " 'service_name',\n",
       " 'FVD',\n",
       " 'FVM',\n",
       " 'FVS',\n",
       " 'approx_age',\n",
       " 'gender',\n",
       " 'LVD',\n",
       " 'brand',\n",
       " 'visits_required',\n",
       " 'diagnosis',\n",
       " 'avg_nps',\n",
       " 'Unnamed: 20',\n",
       " 'Unnamed: 21']"
      ]
     },
     "execution_count": 5,
     "metadata": {},
     "output_type": "execute_result"
    }
   ],
   "source": [
    "header = list(patient_monthwise_revenue_train)\n",
    "header_2 = header[0:len(header)]\n",
    "header_2"
   ]
  },
  {
   "cell_type": "code",
   "execution_count": 6,
   "metadata": {
    "collapsed": true
   },
   "outputs": [],
   "source": [
    "patient_train_classified = pd.read_csv(\"patient_train_classified.csv\")\n"
   ]
  },
  {
   "cell_type": "code",
   "execution_count": 7,
   "metadata": {},
   "outputs": [
    {
     "data": {
      "text/plain": [
       "['PID', 'Bucket', 'Revenue']"
      ]
     },
     "execution_count": 7,
     "metadata": {},
     "output_type": "execute_result"
    }
   ],
   "source": [
    "header = list(patient_train_classified)\n",
    "header_3 = header[0:len(header)]\n",
    "header_3"
   ]
  },
  {
   "cell_type": "code",
   "execution_count": 8,
   "metadata": {},
   "outputs": [
    {
     "data": {
      "text/plain": [
       "['appt_id',\n",
       " 'pat_id',\n",
       " 'startDateTime',\n",
       " 'serviceId',\n",
       " 'name',\n",
       " 'status',\n",
       " 'cost',\n",
       " 'discount',\n",
       " 'patient_ivr_confirmation',\n",
       " 'appointment_delayed']"
      ]
     },
     "execution_count": 8,
     "metadata": {},
     "output_type": "execute_result"
    }
   ],
   "source": [
    "physio_appts_train = pd.read_csv(\"physio_appts_train.csv\")\n",
    "header = list(physio_appts_train)\n",
    "header_4 = header[0:len(header)]\n",
    "header_4"
   ]
  },
  {
   "cell_type": "code",
   "execution_count": 9,
   "metadata": {},
   "outputs": [
    {
     "data": {
      "text/plain": [
       "['patientId',\n",
       " 'diagnosis',\n",
       " 'Service',\n",
       " 'AGE',\n",
       " 'gender',\n",
       " 'LVD',\n",
       " 'Unnamed: 6',\n",
       " 'Unnamed: 7']"
      ]
     },
     "execution_count": 9,
     "metadata": {},
     "output_type": "execute_result"
    }
   ],
   "source": [
    "physio_diagnosis_test = pd.read_csv(\"physio_diagnosis_test.csv\")\n",
    "header = list(physio_diagnosis_test)\n",
    "header_5 = header[0:len(header)]\n",
    "header_5"
   ]
  },
  {
   "cell_type": "code",
   "execution_count": 10,
   "metadata": {},
   "outputs": [
    {
     "data": {
      "text/plain": [
       "['patientId',\n",
       " 'diagnosis',\n",
       " 'Service',\n",
       " 'Appt_id',\n",
       " 'AGE',\n",
       " 'gender',\n",
       " 'LVD',\n",
       " 'Unnamed: 7',\n",
       " 'Unnamed: 8']"
      ]
     },
     "execution_count": 10,
     "metadata": {},
     "output_type": "execute_result"
    }
   ],
   "source": [
    "physio_diagnosis_train = pd.read_csv(\"physio_diagnosis_train.csv\")\n",
    "header = list(physio_diagnosis_train)\n",
    "header_6 = header[0:len(header)]\n",
    "header_6"
   ]
  },
  {
   "cell_type": "code",
   "execution_count": 11,
   "metadata": {},
   "outputs": [
    {
     "data": {
      "text/plain": [
       "['PID', 'Bucket']"
      ]
     },
     "execution_count": 11,
     "metadata": {},
     "output_type": "execute_result"
    }
   ],
   "source": [
    "Submission = pd.read_csv(\"Submission.csv\")\n",
    "header = list(Submission)\n",
    "header_7 = header[0:len(header)]\n",
    "header_7"
   ]
  },
  {
   "cell_type": "code",
   "execution_count": 59,
   "metadata": {},
   "outputs": [
    {
     "name": "stdout",
     "output_type": "stream",
     "text": [
      "48804\n"
     ]
    },
    {
     "data": {
      "text/plain": [
       "'\\nfor each in check1:\\n    if each not in check2:\\n        cnt+=1\\nprint(cnt)'"
      ]
     },
     "execution_count": 59,
     "metadata": {},
     "output_type": "execute_result"
    }
   ],
   "source": [
    "check1 = list(Submission['PID'])\n",
    "check2 = list(patient_train_classified['PID'])\n",
    "print(len(check2))\n",
    "cnt = 0\n",
    "check = []\n",
    "'''\n",
    "for each in check1:\n",
    "    if each not in check2:\n",
    "        cnt+=1\n",
    "print(cnt)'''"
   ]
  },
  {
   "cell_type": "code",
   "execution_count": 72,
   "metadata": {},
   "outputs": [],
   "source": [
    "check = check2 + list(physio_appts_train['pat_id']) + list(physio_diagnosis_train['patientId']) + list(physio_diagnosis_test['patientId'])"
   ]
  },
  {
   "cell_type": "code",
   "execution_count": 74,
   "metadata": {},
   "outputs": [],
   "source": [
    "check = check + list(physio_appts_train['pat_id']) + list(patient_monthwise_revenue_train['patient_id']) + list(patient_monthwise_revenue_test['patient_id'])"
   ]
  },
  {
   "cell_type": "code",
   "execution_count": 100,
   "metadata": {},
   "outputs": [],
   "source": [
    "myrevenue = {}"
   ]
  },
  {
   "cell_type": "code",
   "execution_count": 105,
   "metadata": {},
   "outputs": [],
   "source": [
    "# for file: patient_monthwise_revenue_test.csv\n",
    "for pat,rev in zip(patient_monthwise_revenue_test['patient_id'],patient_monthwise_revenue_test['revenue']):\n",
    "    if(pat in myrevenue):\n",
    "        myrevenue[pat] = (myrevenue[pat] + rev) / 2\n",
    "    else:\n",
    "        myrevenue[pat] = rev"
   ]
  },
  {
   "cell_type": "code",
   "execution_count": 108,
   "metadata": {},
   "outputs": [
    {
     "data": {
      "text/plain": [
       "32455"
      ]
     },
     "execution_count": 108,
     "metadata": {},
     "output_type": "execute_result"
    }
   ],
   "source": [
    "len(myrevenue)"
   ]
  },
  {
   "cell_type": "code",
   "execution_count": 109,
   "metadata": {
    "collapsed": true
   },
   "outputs": [],
   "source": [
    "# for file: patient_monthwise_revenue_train.csv\n",
    "for pat,rev in zip(patient_monthwise_revenue_train['patient_id'],patient_monthwise_revenue_train['revenue']):\n",
    "    if(pat in myrevenue):\n",
    "        myrevenue[pat] = (myrevenue[pat] + rev) / 2\n",
    "    else:\n",
    "        myrevenue[pat] = rev"
   ]
  },
  {
   "cell_type": "code",
   "execution_count": 110,
   "metadata": {},
   "outputs": [
    {
     "data": {
      "text/plain": [
       "81259"
      ]
     },
     "execution_count": 110,
     "metadata": {},
     "output_type": "execute_result"
    }
   ],
   "source": [
    "len(myrevenue)"
   ]
  },
  {
   "cell_type": "code",
   "execution_count": 111,
   "metadata": {
    "collapsed": true
   },
   "outputs": [],
   "source": [
    "# for file: patient_train_classified.csv\n",
    "for pat,rev in zip(patient_train_classified['PID'],patient_train_classified['Revenue']):\n",
    "    if(pat in myrevenue):\n",
    "        myrevenue[pat] = (myrevenue[pat] + rev) / 2\n",
    "    else:\n",
    "        myrevenue[pat] = rev"
   ]
  },
  {
   "cell_type": "code",
   "execution_count": 112,
   "metadata": {},
   "outputs": [
    {
     "data": {
      "text/plain": [
       "81259"
      ]
     },
     "execution_count": 112,
     "metadata": {},
     "output_type": "execute_result"
    }
   ],
   "source": [
    "len(myrevenue)"
   ]
  },
  {
   "cell_type": "code",
   "execution_count": 116,
   "metadata": {},
   "outputs": [],
   "source": [
    "count = 0\n",
    "for each in Submission['PID']:\n",
    "    if each in myrevenue:\n",
    "        count+=1"
   ]
  },
  {
   "cell_type": "code",
   "execution_count": 117,
   "metadata": {},
   "outputs": [
    {
     "data": {
      "text/plain": [
       "32455"
      ]
     },
     "execution_count": 117,
     "metadata": {},
     "output_type": "execute_result"
    }
   ],
   "source": [
    "count"
   ]
  },
  {
   "cell_type": "code",
   "execution_count": 130,
   "metadata": {},
   "outputs": [
    {
     "data": {
      "text/plain": [
       "10000.0"
      ]
     },
     "execution_count": 130,
     "metadata": {},
     "output_type": "execute_result"
    }
   ],
   "source": [
    "max(patient_train_classified['Revenue'][(patient_train_classified['Bucket'] == 'High-Med')])"
   ]
  },
  {
   "cell_type": "code",
   "execution_count": 131,
   "metadata": {},
   "outputs": [
    {
     "name": "stderr",
     "output_type": "stream",
     "text": [
      "C:\\Users\\I341584\\Continuum\\Anaconda3\\lib\\site-packages\\ipykernel_launcher.py:4: SettingWithCopyWarning: \n",
      "A value is trying to be set on a copy of a slice from a DataFrame\n",
      "\n",
      "See the caveats in the documentation: http://pandas.pydata.org/pandas-docs/stable/indexing.html#indexing-view-versus-copy\n",
      "  after removing the cwd from sys.path.\n"
     ]
    }
   ],
   "source": [
    "for pid in Submission['PID']:\n",
    "    rev = myrevenue[pid]\n",
    "    if rev <=1000:\n",
    "        Submission['Bucket'][(Submission['PID'] == pid)] = \"Low\"\n",
    "    elif rev <= 5000:\n",
    "        Submission['Bucket'][(Submission['PID'] == pid)] = \"Med\"\n",
    "    elif rev <= 10000:\n",
    "        Submission['Bucket'][(Submission['PID'] == pid)] = \"High-Med\"\n",
    "    else:\n",
    "        Submission['Bucket'][(Submission['PID'] == pid)] = \"High\""
   ]
  },
  {
   "cell_type": "code",
   "execution_count": 134,
   "metadata": {},
   "outputs": [],
   "source": [
    "Submission.to_csv(\"Submission.csv\",index=False)"
   ]
  },
  {
   "cell_type": "code",
   "execution_count": null,
   "metadata": {
    "collapsed": true
   },
   "outputs": [],
   "source": []
  }
 ],
 "metadata": {
  "kernelspec": {
   "display_name": "Python 3",
   "language": "python",
   "name": "python3"
  },
  "language_info": {
   "codemirror_mode": {
    "name": "ipython",
    "version": 3
   },
   "file_extension": ".py",
   "mimetype": "text/x-python",
   "name": "python",
   "nbconvert_exporter": "python",
   "pygments_lexer": "ipython3",
   "version": "3.6.3"
  }
 },
 "nbformat": 4,
 "nbformat_minor": 2
}
